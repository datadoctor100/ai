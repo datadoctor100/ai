{
  "nbformat": 4,
  "nbformat_minor": 0,
  "metadata": {
    "kernelspec": {
      "display_name": "Python 3",
      "language": "python",
      "name": "python3"
    },
    "language_info": {
      "codemirror_mode": {
        "name": "ipython",
        "version": 3
      },
      "file_extension": ".py",
      "mimetype": "text/x-python",
      "name": "python",
      "nbconvert_exporter": "python",
      "pygments_lexer": "ipython3",
      "version": "3.8.5"
    },
    "colab": {
      "name": "smote_nn.ipynb",
      "provenance": [],
      "collapsed_sections": [],
      "toc_visible": true
    }
  },
  "cells": [
    {
      "cell_type": "markdown",
      "metadata": {
        "id": "S5-0P99bhIGS"
      },
      "source": [
        "# AI: Machine Learning w/ Imbalanced Classes <a class = \"anchor\" id = \"top\"></a>\n",
        "\n",
        "#### - Zan\n",
        "\n",
        "---"
      ]
    },
    {
      "cell_type": "code",
      "metadata": {
        "colab": {
          "resources": {
            "http://localhost:8080/nbextensions/google.colab/files.js": {
              "data": "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",
              "ok": true,
              "headers": [
                [
                  "content-type",
                  "application/javascript"
                ]
              ],
              "status": 200,
              "status_text": "OK"
            }
          },
          "base_uri": "https://localhost:8080/",
          "height": 71
        },
        "id": "CZF5Q5Sxl8PS",
        "outputId": "40abbc12-94d2-401c-cb60-671df6af2761"
      },
      "source": [
        "# Read data\n",
        "from google.colab import files\n",
        "uploaded = files.upload()"
      ],
      "execution_count": null,
      "outputs": [
        {
          "output_type": "display_data",
          "data": {
            "text/html": [
              "\n",
              "     <input type=\"file\" id=\"files-6a4e1b10-20c2-41ea-a438-6972f434fe42\" name=\"files[]\" multiple disabled\n",
              "        style=\"border:none\" />\n",
              "     <output id=\"result-6a4e1b10-20c2-41ea-a438-6972f434fe42\">\n",
              "      Upload widget is only available when the cell has been executed in the\n",
              "      current browser session. Please rerun this cell to enable.\n",
              "      </output>\n",
              "      <script src=\"/nbextensions/google.colab/files.js\"></script> "
            ],
            "text/plain": [
              "<IPython.core.display.HTML object>"
            ]
          },
          "metadata": {
            "tags": []
          }
        },
        {
          "output_type": "stream",
          "text": [
            "Saving stroke_data.csv to stroke_data (1).csv\n"
          ],
          "name": "stdout"
        }
      ]
    },
    {
      "cell_type": "code",
      "metadata": {
        "id": "fF_fJVzzhIGU"
      },
      "source": [
        "# Install packages\n",
        "#import sys\n",
        "#!{sys.executable} -m pip install ann_visualizer\n",
        "#!{sys.executable} -m pip install graphviz\n",
        "#!{sys.executable} -m pip install keras\n",
        "#!{sys.executable} -m pip install tensorflow"
      ],
      "execution_count": null,
      "outputs": []
    },
    {
      "cell_type": "code",
      "metadata": {
        "id": "DbP7b5EKhIGU"
      },
      "source": [
        "# Import libraries\n",
        "import warnings\n",
        "warnings.filterwarnings(\"ignore\")\n",
        "import pandas as pd\n",
        "from imblearn.over_sampling import SMOTE\n",
        "from keras.models import Sequential\n",
        "from keras.layers import Dense\n",
        "import numpy\n",
        "from ann_visualizer.visualize import ann_viz\n",
        "from sklearn.preprocessing import LabelEncoder\n",
        "from sklearn.model_selection import train_test_split, cross_val_score\n",
        "from sklearn.metrics import accuracy_score, confusion_matrix, roc_auc_score, ConfusionMatrixDisplay, precision_score, recall_score, f1_score, classification_report, roc_curve, plot_roc_curve, auc, precision_recall_curve, plot_precision_recall_curve, average_precision_score\n",
        "from sklearn.linear_model import LogisticRegression\n",
        "from sklearn.neighbors import KNeighborsClassifier\n",
        "from sklearn.naive_bayes import GaussianNB\n",
        "from sklearn.naive_bayes import BernoulliNB\n",
        "from sklearn.svm import SVC\n",
        "from sklearn.tree import DecisionTreeClassifier\n",
        "from sklearn.ensemble import RandomForestClassifier\n",
        "from xgboost import XGBClassifier\n",
        "import io"
      ],
      "execution_count": null,
      "outputs": []
    },
    {
      "cell_type": "code",
      "metadata": {
        "colab": {
          "base_uri": "https://localhost:8080/",
          "height": 363
        },
        "id": "0ligIiKchIGU",
        "outputId": "3c18bd57-279d-458d-c03a-2b74f85f4650"
      },
      "source": [
        "# Get\n",
        "df = pd.read_csv(io.BytesIO(uploaded['stroke_data.csv'])).drop('id', axis = 1)\n",
        "df.head(n = 10)"
      ],
      "execution_count": 26,
      "outputs": [
        {
          "output_type": "execute_result",
          "data": {
            "text/html": [
              "<div>\n",
              "<style scoped>\n",
              "    .dataframe tbody tr th:only-of-type {\n",
              "        vertical-align: middle;\n",
              "    }\n",
              "\n",
              "    .dataframe tbody tr th {\n",
              "        vertical-align: top;\n",
              "    }\n",
              "\n",
              "    .dataframe thead th {\n",
              "        text-align: right;\n",
              "    }\n",
              "</style>\n",
              "<table border=\"1\" class=\"dataframe\">\n",
              "  <thead>\n",
              "    <tr style=\"text-align: right;\">\n",
              "      <th></th>\n",
              "      <th>gender</th>\n",
              "      <th>age</th>\n",
              "      <th>hypertension</th>\n",
              "      <th>heart_disease</th>\n",
              "      <th>ever_married</th>\n",
              "      <th>work_type</th>\n",
              "      <th>Residence_type</th>\n",
              "      <th>avg_glucose_level</th>\n",
              "      <th>bmi</th>\n",
              "      <th>smoking_status</th>\n",
              "      <th>stroke</th>\n",
              "    </tr>\n",
              "  </thead>\n",
              "  <tbody>\n",
              "    <tr>\n",
              "      <th>0</th>\n",
              "      <td>Male</td>\n",
              "      <td>67.0</td>\n",
              "      <td>0</td>\n",
              "      <td>1</td>\n",
              "      <td>Yes</td>\n",
              "      <td>Private</td>\n",
              "      <td>Urban</td>\n",
              "      <td>228.69</td>\n",
              "      <td>36.6</td>\n",
              "      <td>formerly smoked</td>\n",
              "      <td>1</td>\n",
              "    </tr>\n",
              "    <tr>\n",
              "      <th>1</th>\n",
              "      <td>Female</td>\n",
              "      <td>61.0</td>\n",
              "      <td>0</td>\n",
              "      <td>0</td>\n",
              "      <td>Yes</td>\n",
              "      <td>Self-employed</td>\n",
              "      <td>Rural</td>\n",
              "      <td>202.21</td>\n",
              "      <td>NaN</td>\n",
              "      <td>never smoked</td>\n",
              "      <td>1</td>\n",
              "    </tr>\n",
              "    <tr>\n",
              "      <th>2</th>\n",
              "      <td>Male</td>\n",
              "      <td>80.0</td>\n",
              "      <td>0</td>\n",
              "      <td>1</td>\n",
              "      <td>Yes</td>\n",
              "      <td>Private</td>\n",
              "      <td>Rural</td>\n",
              "      <td>105.92</td>\n",
              "      <td>32.5</td>\n",
              "      <td>never smoked</td>\n",
              "      <td>1</td>\n",
              "    </tr>\n",
              "    <tr>\n",
              "      <th>3</th>\n",
              "      <td>Female</td>\n",
              "      <td>49.0</td>\n",
              "      <td>0</td>\n",
              "      <td>0</td>\n",
              "      <td>Yes</td>\n",
              "      <td>Private</td>\n",
              "      <td>Urban</td>\n",
              "      <td>171.23</td>\n",
              "      <td>34.4</td>\n",
              "      <td>smokes</td>\n",
              "      <td>1</td>\n",
              "    </tr>\n",
              "    <tr>\n",
              "      <th>4</th>\n",
              "      <td>Female</td>\n",
              "      <td>79.0</td>\n",
              "      <td>1</td>\n",
              "      <td>0</td>\n",
              "      <td>Yes</td>\n",
              "      <td>Self-employed</td>\n",
              "      <td>Rural</td>\n",
              "      <td>174.12</td>\n",
              "      <td>24.0</td>\n",
              "      <td>never smoked</td>\n",
              "      <td>1</td>\n",
              "    </tr>\n",
              "    <tr>\n",
              "      <th>5</th>\n",
              "      <td>Male</td>\n",
              "      <td>81.0</td>\n",
              "      <td>0</td>\n",
              "      <td>0</td>\n",
              "      <td>Yes</td>\n",
              "      <td>Private</td>\n",
              "      <td>Urban</td>\n",
              "      <td>186.21</td>\n",
              "      <td>29.0</td>\n",
              "      <td>formerly smoked</td>\n",
              "      <td>1</td>\n",
              "    </tr>\n",
              "    <tr>\n",
              "      <th>6</th>\n",
              "      <td>Male</td>\n",
              "      <td>74.0</td>\n",
              "      <td>1</td>\n",
              "      <td>1</td>\n",
              "      <td>Yes</td>\n",
              "      <td>Private</td>\n",
              "      <td>Rural</td>\n",
              "      <td>70.09</td>\n",
              "      <td>27.4</td>\n",
              "      <td>never smoked</td>\n",
              "      <td>1</td>\n",
              "    </tr>\n",
              "    <tr>\n",
              "      <th>7</th>\n",
              "      <td>Female</td>\n",
              "      <td>69.0</td>\n",
              "      <td>0</td>\n",
              "      <td>0</td>\n",
              "      <td>No</td>\n",
              "      <td>Private</td>\n",
              "      <td>Urban</td>\n",
              "      <td>94.39</td>\n",
              "      <td>22.8</td>\n",
              "      <td>never smoked</td>\n",
              "      <td>1</td>\n",
              "    </tr>\n",
              "    <tr>\n",
              "      <th>8</th>\n",
              "      <td>Female</td>\n",
              "      <td>59.0</td>\n",
              "      <td>0</td>\n",
              "      <td>0</td>\n",
              "      <td>Yes</td>\n",
              "      <td>Private</td>\n",
              "      <td>Rural</td>\n",
              "      <td>76.15</td>\n",
              "      <td>NaN</td>\n",
              "      <td>Unknown</td>\n",
              "      <td>1</td>\n",
              "    </tr>\n",
              "    <tr>\n",
              "      <th>9</th>\n",
              "      <td>Female</td>\n",
              "      <td>78.0</td>\n",
              "      <td>0</td>\n",
              "      <td>0</td>\n",
              "      <td>Yes</td>\n",
              "      <td>Private</td>\n",
              "      <td>Urban</td>\n",
              "      <td>58.57</td>\n",
              "      <td>24.2</td>\n",
              "      <td>Unknown</td>\n",
              "      <td>1</td>\n",
              "    </tr>\n",
              "  </tbody>\n",
              "</table>\n",
              "</div>"
            ],
            "text/plain": [
              "   gender   age  hypertension  ...   bmi   smoking_status stroke\n",
              "0    Male  67.0             0  ...  36.6  formerly smoked      1\n",
              "1  Female  61.0             0  ...   NaN     never smoked      1\n",
              "2    Male  80.0             0  ...  32.5     never smoked      1\n",
              "3  Female  49.0             0  ...  34.4           smokes      1\n",
              "4  Female  79.0             1  ...  24.0     never smoked      1\n",
              "5    Male  81.0             0  ...  29.0  formerly smoked      1\n",
              "6    Male  74.0             1  ...  27.4     never smoked      1\n",
              "7  Female  69.0             0  ...  22.8     never smoked      1\n",
              "8  Female  59.0             0  ...   NaN          Unknown      1\n",
              "9  Female  78.0             0  ...  24.2          Unknown      1\n",
              "\n",
              "[10 rows x 11 columns]"
            ]
          },
          "metadata": {
            "tags": []
          },
          "execution_count": 26
        }
      ]
    },
    {
      "cell_type": "code",
      "metadata": {
        "id": "LoBfj08RhIGV"
      },
      "source": [
        "# Encode categorical columns and split for training\n",
        "cats = ['gender', 'ever_married', 'work_type', 'Residence_type', 'smoking_status']\n",
        "data = data_refinery(df, cats, 'stroke')"
      ],
      "execution_count": 27,
      "outputs": []
    },
    {
      "cell_type": "code",
      "metadata": {
        "id": "UY1z3SfzhIGV",
        "colab": {
          "base_uri": "https://localhost:8080/",
          "height": 363
        },
        "outputId": "990a39d6-fa14-4b38-9896-f2da9a7a96e6"
      },
      "source": [
        "data.xtrain.head(n = 10)"
      ],
      "execution_count": 28,
      "outputs": [
        {
          "output_type": "execute_result",
          "data": {
            "text/html": [
              "<div>\n",
              "<style scoped>\n",
              "    .dataframe tbody tr th:only-of-type {\n",
              "        vertical-align: middle;\n",
              "    }\n",
              "\n",
              "    .dataframe tbody tr th {\n",
              "        vertical-align: top;\n",
              "    }\n",
              "\n",
              "    .dataframe thead th {\n",
              "        text-align: right;\n",
              "    }\n",
              "</style>\n",
              "<table border=\"1\" class=\"dataframe\">\n",
              "  <thead>\n",
              "    <tr style=\"text-align: right;\">\n",
              "      <th></th>\n",
              "      <th>gender</th>\n",
              "      <th>age</th>\n",
              "      <th>hypertension</th>\n",
              "      <th>heart_disease</th>\n",
              "      <th>ever_married</th>\n",
              "      <th>work_type</th>\n",
              "      <th>Residence_type</th>\n",
              "      <th>avg_glucose_level</th>\n",
              "      <th>bmi</th>\n",
              "      <th>smoking_status</th>\n",
              "    </tr>\n",
              "  </thead>\n",
              "  <tbody>\n",
              "    <tr>\n",
              "      <th>3956</th>\n",
              "      <td>1</td>\n",
              "      <td>36.0</td>\n",
              "      <td>0</td>\n",
              "      <td>0</td>\n",
              "      <td>0</td>\n",
              "      <td>2</td>\n",
              "      <td>1</td>\n",
              "      <td>200.68</td>\n",
              "      <td>25.8</td>\n",
              "      <td>0</td>\n",
              "    </tr>\n",
              "    <tr>\n",
              "      <th>574</th>\n",
              "      <td>1</td>\n",
              "      <td>18.0</td>\n",
              "      <td>0</td>\n",
              "      <td>0</td>\n",
              "      <td>0</td>\n",
              "      <td>2</td>\n",
              "      <td>1</td>\n",
              "      <td>112.17</td>\n",
              "      <td>31.7</td>\n",
              "      <td>0</td>\n",
              "    </tr>\n",
              "    <tr>\n",
              "      <th>4013</th>\n",
              "      <td>1</td>\n",
              "      <td>44.0</td>\n",
              "      <td>1</td>\n",
              "      <td>0</td>\n",
              "      <td>1</td>\n",
              "      <td>2</td>\n",
              "      <td>0</td>\n",
              "      <td>91.28</td>\n",
              "      <td>26.5</td>\n",
              "      <td>2</td>\n",
              "    </tr>\n",
              "    <tr>\n",
              "      <th>3081</th>\n",
              "      <td>0</td>\n",
              "      <td>72.0</td>\n",
              "      <td>0</td>\n",
              "      <td>0</td>\n",
              "      <td>1</td>\n",
              "      <td>3</td>\n",
              "      <td>0</td>\n",
              "      <td>104.04</td>\n",
              "      <td>34.7</td>\n",
              "      <td>1</td>\n",
              "    </tr>\n",
              "    <tr>\n",
              "      <th>4201</th>\n",
              "      <td>1</td>\n",
              "      <td>43.0</td>\n",
              "      <td>0</td>\n",
              "      <td>0</td>\n",
              "      <td>1</td>\n",
              "      <td>2</td>\n",
              "      <td>0</td>\n",
              "      <td>207.37</td>\n",
              "      <td>29.5</td>\n",
              "      <td>1</td>\n",
              "    </tr>\n",
              "    <tr>\n",
              "      <th>1412</th>\n",
              "      <td>1</td>\n",
              "      <td>82.0</td>\n",
              "      <td>1</td>\n",
              "      <td>0</td>\n",
              "      <td>1</td>\n",
              "      <td>2</td>\n",
              "      <td>0</td>\n",
              "      <td>227.28</td>\n",
              "      <td>33.3</td>\n",
              "      <td>2</td>\n",
              "    </tr>\n",
              "    <tr>\n",
              "      <th>972</th>\n",
              "      <td>0</td>\n",
              "      <td>16.0</td>\n",
              "      <td>0</td>\n",
              "      <td>0</td>\n",
              "      <td>0</td>\n",
              "      <td>2</td>\n",
              "      <td>1</td>\n",
              "      <td>87.98</td>\n",
              "      <td>22.4</td>\n",
              "      <td>2</td>\n",
              "    </tr>\n",
              "    <tr>\n",
              "      <th>4526</th>\n",
              "      <td>1</td>\n",
              "      <td>60.0</td>\n",
              "      <td>0</td>\n",
              "      <td>0</td>\n",
              "      <td>1</td>\n",
              "      <td>2</td>\n",
              "      <td>1</td>\n",
              "      <td>80.67</td>\n",
              "      <td>33.5</td>\n",
              "      <td>0</td>\n",
              "    </tr>\n",
              "    <tr>\n",
              "      <th>3792</th>\n",
              "      <td>0</td>\n",
              "      <td>74.0</td>\n",
              "      <td>0</td>\n",
              "      <td>0</td>\n",
              "      <td>1</td>\n",
              "      <td>2</td>\n",
              "      <td>1</td>\n",
              "      <td>130.37</td>\n",
              "      <td>26.3</td>\n",
              "      <td>0</td>\n",
              "    </tr>\n",
              "    <tr>\n",
              "      <th>2275</th>\n",
              "      <td>0</td>\n",
              "      <td>82.0</td>\n",
              "      <td>0</td>\n",
              "      <td>0</td>\n",
              "      <td>1</td>\n",
              "      <td>3</td>\n",
              "      <td>0</td>\n",
              "      <td>117.75</td>\n",
              "      <td>29.8</td>\n",
              "      <td>2</td>\n",
              "    </tr>\n",
              "  </tbody>\n",
              "</table>\n",
              "</div>"
            ],
            "text/plain": [
              "      gender   age  hypertension  ...  avg_glucose_level   bmi  smoking_status\n",
              "3956       1  36.0             0  ...             200.68  25.8               0\n",
              "574        1  18.0             0  ...             112.17  31.7               0\n",
              "4013       1  44.0             1  ...              91.28  26.5               2\n",
              "3081       0  72.0             0  ...             104.04  34.7               1\n",
              "4201       1  43.0             0  ...             207.37  29.5               1\n",
              "1412       1  82.0             1  ...             227.28  33.3               2\n",
              "972        0  16.0             0  ...              87.98  22.4               2\n",
              "4526       1  60.0             0  ...              80.67  33.5               0\n",
              "3792       0  74.0             0  ...             130.37  26.3               0\n",
              "2275       0  82.0             0  ...             117.75  29.8               2\n",
              "\n",
              "[10 rows x 10 columns]"
            ]
          },
          "metadata": {
            "tags": []
          },
          "execution_count": 28
        }
      ]
    },
    {
      "cell_type": "code",
      "metadata": {
        "id": "C_hgOIf0hIGV"
      },
      "source": [
        "# Oversampling with SMOTE\n",
        "sm = SMOTE(random_state = 100)\n",
        "\n",
        "smote_xtrain, smote_ytrain = sm.fit_resample(data.xtrain, data.ytrain.ravel())\n",
        "smote_xval, smote_yval = sm.fit_resample(data.xval, data.yval.ravel())"
      ],
      "execution_count": 29,
      "outputs": []
    },
    {
      "cell_type": "code",
      "metadata": {
        "id": "1waOZdnVhIGW",
        "colab": {
          "base_uri": "https://localhost:8080/"
        },
        "outputId": "805c188a-1e4e-4e04-d441-1cf4e2f1e6bf"
      },
      "source": [
        "# Function to count values\n",
        "def counter(x, condition):\n",
        "    \n",
        "    x1 = [i for i in x if i == condition]\n",
        "    \n",
        "    return len(x1)\n",
        "\n",
        "print('Overall Target Distribution: ')\n",
        "print(df['stroke'].value_counts())\n",
        "print()\n",
        "print('Distribution for Machine Learning: \\n')\n",
        "print('Training- \\n')\n",
        "print(f'Negative: {counter(data.ytrain, 0)}')\n",
        "print(f'Positive: {counter(data.ytrain, 1)}')\n",
        "print('\\nValidation- \\n')\n",
        "print(f'Negative: {counter(data.yval, 0)}')\n",
        "print(f'Positive: {counter(data.yval, 1)}')\n",
        "print('\\nSMOTE Target Distribution:\\n')\n",
        "print('Training- \\n')\n",
        "print(f'Negative, {counter(smote_ytrain, 0)}')\n",
        "print(f'Positive, {counter(smote_ytrain, 1)}')\n",
        "print('\\nValidation- \\n')\n",
        "print(f'Negative, {counter(smote_yval, 0)}')\n",
        "print(f'Positive, {counter(smote_yval, 1)}')"
      ],
      "execution_count": 30,
      "outputs": [
        {
          "output_type": "stream",
          "text": [
            "Overall Target Distribution: \n",
            "0    4700\n",
            "1     209\n",
            "Name: stroke, dtype: int64\n",
            "\n",
            "Distribution for Machine Learning: \n",
            "\n",
            "Training- \n",
            "\n",
            "Negative: 3752\n",
            "Positive: 175\n",
            "\n",
            "Validation- \n",
            "\n",
            "Negative: 948\n",
            "Positive: 34\n",
            "\n",
            "SMOTE Target Distribution:\n",
            "\n",
            "Training- \n",
            "\n",
            "Negative, 3752\n",
            "Positive, 3752\n",
            "\n",
            "Validation- \n",
            "\n",
            "Negative, 948\n",
            "Positive, 948\n"
          ],
          "name": "stdout"
        }
      ]
    },
    {
      "cell_type": "markdown",
      "metadata": {
        "id": "hIS1liewhIGW"
      },
      "source": [
        "#### Ground-Truth Model:"
      ]
    },
    {
      "cell_type": "code",
      "metadata": {
        "id": "5TDJSg5MhIGW",
        "colab": {
          "base_uri": "https://localhost:8080/"
        },
        "outputId": "0c5beb6b-06d7-4db2-9b24-a2f2d88b001d"
      },
      "source": [
        "pipeline = modeling_pipeline(data.xtrain, data.ytrain, data.xval, data.yval)\n",
        "pipeline.execute_pipeline_flow()\n",
        "\n",
        "results = pd.DataFrame()\n",
        "\n",
        "for k, v in pipeline.scores.items():\n",
        "    \n",
        "    results = results.append({'model': k,\n",
        "                              'acc': v[0],\n",
        "                              'kfold_acc': v[1],\n",
        "                              'roc': v[2],\n",
        "                              'precision': v[3],\n",
        "                              'recall': v[4],\n",
        "                              'f1': v[5]}, ignore_index = True)"
      ],
      "execution_count": 31,
      "outputs": [
        {
          "output_type": "stream",
          "text": [
            "LogisticRegression :\n",
            "\n",
            " [[947   1]\n",
            " [ 32   2]]\n",
            "\n",
            "Accuracy Score:  0.97\n",
            "K-Fold Validation Mean Accuracy: 96.44%\n",
            "Standard Deviation: 0.68\n",
            "ROC AUC Score: 0.53\n",
            "Precision: 0.67\n",
            "Recall: 0.06\n",
            "F1: 0.11\n",
            "--------------------------------------\n",
            "\n",
            "SVM :\n",
            "\n",
            " [[948   0]\n",
            " [ 34   0]]\n",
            "\n",
            "Accuracy Score:  0.97\n",
            "K-Fold Validation Mean Accuracy: 96.54%\n",
            "Standard Deviation: 0.49\n",
            "ROC AUC Score: 0.50\n",
            "Precision: 0.00\n",
            "Recall: 0.00\n",
            "F1: 0.00\n",
            "--------------------------------------\n",
            "\n",
            "KNeighbors :\n",
            "\n",
            " [[939   9]\n",
            " [ 34   0]]\n",
            "\n",
            "Accuracy Score:  0.96\n",
            "K-Fold Validation Mean Accuracy: 96.33%\n",
            "Standard Deviation: 0.67\n",
            "ROC AUC Score: 0.50\n",
            "Precision: 0.00\n",
            "Recall: 0.00\n",
            "F1: 0.00\n",
            "--------------------------------------\n",
            "\n",
            "GaussianNB :\n",
            "\n",
            " [[834 114]\n",
            " [ 19  15]]\n",
            "\n",
            "Accuracy Score:  0.86\n",
            "K-Fold Validation Mean Accuracy: 88.80%\n",
            "Standard Deviation: 2.46\n",
            "ROC AUC Score: 0.66\n",
            "Precision: 0.12\n",
            "Recall: 0.44\n",
            "F1: 0.18\n",
            "--------------------------------------\n",
            "\n",
            "BernoulliNB :\n",
            "\n",
            " [[936  12]\n",
            " [ 32   2]]\n",
            "\n",
            "Accuracy Score:  0.96\n",
            "K-Fold Validation Mean Accuracy: 95.93%\n",
            "Standard Deviation: 0.79\n",
            "ROC AUC Score: 0.52\n",
            "Precision: 0.14\n",
            "Recall: 0.06\n",
            "F1: 0.08\n",
            "--------------------------------------\n",
            "\n",
            "DecisionTree :\n",
            "\n",
            " [[912  36]\n",
            " [ 29   5]]\n",
            "\n",
            "Accuracy Score:  0.93\n",
            "K-Fold Validation Mean Accuracy: 95.01%\n",
            "Standard Deviation: 1.16\n",
            "ROC AUC Score: 0.55\n",
            "Precision: 0.12\n",
            "Recall: 0.15\n",
            "F1: 0.13\n",
            "--------------------------------------\n",
            "\n",
            "RandomForest :\n",
            "\n",
            " [[947   1]\n",
            " [ 33   1]]\n",
            "\n",
            "Accuracy Score:  0.97\n",
            "K-Fold Validation Mean Accuracy: 96.54%\n",
            "Standard Deviation: 0.50\n",
            "ROC AUC Score: 0.51\n",
            "Precision: 0.50\n",
            "Recall: 0.03\n",
            "F1: 0.06\n",
            "--------------------------------------\n",
            "\n",
            "XGBoost :\n",
            "\n",
            " [[946   2]\n",
            " [ 34   0]]\n",
            "\n",
            "Accuracy Score:  0.96\n",
            "K-Fold Validation Mean Accuracy: 96.64%\n",
            "Standard Deviation: 0.46\n",
            "ROC AUC Score: 0.50\n",
            "Precision: 0.00\n",
            "Recall: 0.00\n",
            "F1: 0.00\n",
            "--------------------------------------\n",
            "\n"
          ],
          "name": "stdout"
        }
      ]
    },
    {
      "cell_type": "markdown",
      "metadata": {
        "id": "hSvhsRJUhIGX"
      },
      "source": [
        "#### SMOTE Model:"
      ]
    },
    {
      "cell_type": "code",
      "metadata": {
        "id": "H48kDNL9hIGX",
        "colab": {
          "base_uri": "https://localhost:8080/"
        },
        "outputId": "257be2a6-cb83-4290-e748-c8514c162341"
      },
      "source": [
        "smote_pipeline = modeling_pipeline(smote_xtrain, smote_ytrain, smote_xval, smote_yval)\n",
        "smote_pipeline.execute_pipeline_flow()\n",
        "\n",
        "smote_results = pd.DataFrame()\n",
        "\n",
        "for k, v in smote_pipeline.scores.items():\n",
        "    \n",
        "    smote_results = smote_results.append({'model': k,\n",
        "                                          'acc': v[0],\n",
        "                                          'kfold_acc': v[1],\n",
        "                                          'roc': v[2],\n",
        "                                          'precision': v[3],\n",
        "                                          'recall': v[4],\n",
        "                                          'f1': v[5]}, ignore_index = True)"
      ],
      "execution_count": 32,
      "outputs": [
        {
          "output_type": "stream",
          "text": [
            "LogisticRegression :\n",
            "\n",
            " [[711 237]\n",
            " [268 680]]\n",
            "\n",
            "Accuracy Score:  0.73\n",
            "K-Fold Validation Mean Accuracy: 81.49%\n",
            "Standard Deviation: 1.85\n",
            "ROC AUC Score: 0.73\n",
            "Precision: 0.74\n",
            "Recall: 0.72\n",
            "F1: 0.73\n",
            "--------------------------------------\n",
            "\n",
            "SVM :\n",
            "\n",
            " [[664 284]\n",
            " [237 711]]\n",
            "\n",
            "Accuracy Score:  0.73\n",
            "K-Fold Validation Mean Accuracy: 80.27%\n",
            "Standard Deviation: 1.81\n",
            "ROC AUC Score: 0.73\n",
            "Precision: 0.71\n",
            "Recall: 0.75\n",
            "F1: 0.73\n",
            "--------------------------------------\n",
            "\n",
            "KNeighbors :\n",
            "\n",
            " [[784 164]\n",
            " [434 514]]\n",
            "\n",
            "Accuracy Score:  0.68\n",
            "K-Fold Validation Mean Accuracy: 90.40%\n",
            "Standard Deviation: 2.10\n",
            "ROC AUC Score: 0.68\n",
            "Precision: 0.76\n",
            "Recall: 0.54\n",
            "F1: 0.63\n",
            "--------------------------------------\n",
            "\n",
            "GaussianNB :\n",
            "\n",
            " [[705 243]\n",
            " [263 685]]\n",
            "\n",
            "Accuracy Score:  0.73\n",
            "K-Fold Validation Mean Accuracy: 79.06%\n",
            "Standard Deviation: 1.92\n",
            "ROC AUC Score: 0.73\n",
            "Precision: 0.74\n",
            "Recall: 0.72\n",
            "F1: 0.73\n",
            "--------------------------------------\n",
            "\n",
            "BernoulliNB :\n",
            "\n",
            " [[792 156]\n",
            " [259 689]]\n",
            "\n",
            "Accuracy Score:  0.78\n",
            "K-Fold Validation Mean Accuracy: 81.27%\n",
            "Standard Deviation: 2.19\n",
            "ROC AUC Score: 0.78\n",
            "Precision: 0.82\n",
            "Recall: 0.73\n",
            "F1: 0.77\n",
            "--------------------------------------\n",
            "\n",
            "DecisionTree :\n",
            "\n",
            " [[892  56]\n",
            " [166 782]]\n",
            "\n",
            "Accuracy Score:  0.88\n",
            "K-Fold Validation Mean Accuracy: 96.63%\n",
            "Standard Deviation: 2.50\n",
            "ROC AUC Score: 0.88\n",
            "Precision: 0.93\n",
            "Recall: 0.82\n",
            "F1: 0.88\n",
            "--------------------------------------\n",
            "\n",
            "RandomForest :\n",
            "\n",
            " [[944   4]\n",
            " [158 790]]\n",
            "\n",
            "Accuracy Score:  0.91\n",
            "K-Fold Validation Mean Accuracy: 98.31%\n",
            "Standard Deviation: 3.67\n",
            "ROC AUC Score: 0.91\n",
            "Precision: 0.99\n",
            "Recall: 0.83\n",
            "F1: 0.91\n",
            "--------------------------------------\n",
            "\n",
            "XGBoost :\n",
            "\n",
            " [[940   8]\n",
            " [102 846]]\n",
            "\n",
            "Accuracy Score:  0.94\n",
            "K-Fold Validation Mean Accuracy: 98.05%\n",
            "Standard Deviation: 3.41\n",
            "ROC AUC Score: 0.94\n",
            "Precision: 0.99\n",
            "Recall: 0.89\n",
            "F1: 0.94\n",
            "--------------------------------------\n",
            "\n"
          ],
          "name": "stdout"
        }
      ]
    },
    {
      "cell_type": "code",
      "metadata": {
        "id": "ZqgihLGjhIGX",
        "outputId": "719b1e09-a543-46bd-de5e-fb6d3a67c161"
      },
      "source": [
        "print(results.sort_values('f1', ascending = False)[['model', 'precision', 'recall', 'roc']])"
      ],
      "execution_count": null,
      "outputs": [
        {
          "output_type": "stream",
          "text": [
            "                model  precision    recall       roc\n",
            "3          GaussianNB   0.116279  0.441176  0.660462\n",
            "5        DecisionTree   0.121951  0.147059  0.554542\n",
            "0  LogisticRegression   0.666667  0.058824  0.528884\n",
            "4         BernoulliNB   0.142857  0.058824  0.523083\n",
            "6        RandomForest   0.500000  0.029412  0.514178\n",
            "7             XGBoost   0.111111  0.029412  0.510486\n",
            "1                 SVM   0.000000  0.000000  0.500000\n",
            "2          KNeighbors   0.000000  0.000000  0.495253\n"
          ],
          "name": "stdout"
        }
      ]
    },
    {
      "cell_type": "code",
      "metadata": {
        "id": "AYL_iBlyhIGY",
        "outputId": "ac5db7aa-233c-4679-aa73-af6d0458b425"
      },
      "source": [
        "print(smote_results.sort_values('f1', ascending = False)[['model', 'precision', 'recall', 'roc']])"
      ],
      "execution_count": null,
      "outputs": [
        {
          "output_type": "stream",
          "text": [
            "                model  precision    recall       roc\n",
            "7             XGBoost   0.958564  0.732068  0.850211\n",
            "0  LogisticRegression   0.789095  0.809072  0.796414\n",
            "3          GaussianNB   0.745918  0.771097  0.754219\n",
            "1                 SVM   0.718053  0.746835  0.726793\n",
            "6        RandomForest   0.915447  0.593882  0.769515\n",
            "4         BernoulliNB   0.632083  0.835443  0.674578\n",
            "2          KNeighbors   0.777135  0.566456  0.702004\n",
            "5        DecisionTree   0.858377  0.524262  0.718882\n"
          ],
          "name": "stdout"
        }
      ]
    },
    {
      "cell_type": "markdown",
      "metadata": {
        "id": "_RabCipbhIGY"
      },
      "source": [
        "#### Neural Network Visualization:"
      ]
    },
    {
      "cell_type": "code",
      "metadata": {
        "id": "F8vP5D4ahIGY",
        "colab": {
          "base_uri": "https://localhost:8080/"
        },
        "outputId": "84b1d70a-397d-479f-c6dd-9c85de16f354"
      },
      "source": [
        "# Init NN\n",
        "model = Sequential()\n",
        "model.add(Dense(12, input_dim = len(data.xtrain.columns), activation = 'relu'))\n",
        "model.add(Dense(8, activation = 'relu'))\n",
        "model.add(Dense(1, activation = 'sigmoid'))\n",
        "model.compile(loss = 'binary_crossentropy', optimizer = 'adam', metrics = ['accuracy'])\n",
        "model.fit(smote_xtrain, smote_ytrain, epochs = 10, batch_size = 1000)\n",
        "scores = model.evaluate(smote_xval, smote_yval)\n",
        "print(\"\\n%s: %.2f%%\" % (model.metrics_names[1], scores[1] * 100))"
      ],
      "execution_count": 33,
      "outputs": [
        {
          "output_type": "stream",
          "text": [
            "Epoch 1/10\n",
            "8/8 [==============================] - 1s 3ms/step - loss: 15.6549 - accuracy: 0.4953\n",
            "Epoch 2/10\n",
            "8/8 [==============================] - 0s 2ms/step - loss: 12.0234 - accuracy: 0.4980\n",
            "Epoch 3/10\n",
            "8/8 [==============================] - 0s 2ms/step - loss: 8.5772 - accuracy: 0.4987\n",
            "Epoch 4/10\n",
            "8/8 [==============================] - 0s 3ms/step - loss: 5.2742 - accuracy: 0.4985\n",
            "Epoch 5/10\n",
            "8/8 [==============================] - 0s 2ms/step - loss: 2.3187 - accuracy: 0.5093\n",
            "Epoch 6/10\n",
            "8/8 [==============================] - 0s 2ms/step - loss: 1.2100 - accuracy: 0.5032\n",
            "Epoch 7/10\n",
            "8/8 [==============================] - 0s 4ms/step - loss: 1.3679 - accuracy: 0.4694\n",
            "Epoch 8/10\n",
            "8/8 [==============================] - 0s 2ms/step - loss: 1.1388 - accuracy: 0.5058\n",
            "Epoch 9/10\n",
            "8/8 [==============================] - 0s 3ms/step - loss: 0.8877 - accuracy: 0.5676\n",
            "Epoch 10/10\n",
            "8/8 [==============================] - 0s 3ms/step - loss: 0.7676 - accuracy: 0.6224\n",
            "60/60 [==============================] - 0s 1ms/step - loss: 0.6169 - accuracy: 0.6472\n",
            "\n",
            "accuracy: 64.72%\n"
          ],
          "name": "stdout"
        }
      ]
    },
    {
      "cell_type": "code",
      "metadata": {
        "id": "-vlogX-IhIGY",
        "colab": {
          "base_uri": "https://localhost:8080/"
        },
        "outputId": "62729149-f98b-46fe-ebb6-bd1a912824fa"
      },
      "source": [
        "# Evaluate\n",
        "preds = model.predict(smote_xval)\n",
        "preds = [1 if x >= .5 else 0 for x in preds]\n",
        "\n",
        "cm = confusion_matrix(smote_yval, preds)  \n",
        "accuracies = accuracy_score(smote_yval, preds)\n",
        "roc = roc_auc_score(smote_yval, preds)  \n",
        "precision = precision_score(smote_yval, preds) \n",
        "recall = recall_score(smote_yval, preds) \n",
        "f1 = f1_score(smote_yval, preds)  \n",
        "\n",
        "print('Outputs for Neural Network- ')\n",
        "print(cm)\n",
        "print('Accuracy Score: ', round(accuracy_score(smote_yval, preds), 2))\n",
        "print('ROC AUC Score: {:.2f}'.format(roc))\n",
        "print('Precision: {:.2f}'.format(precision))\n",
        "print('Recall: {:.2f}'.format(recall))\n",
        "print('F1: {:.2f}'.format(f1))"
      ],
      "execution_count": 34,
      "outputs": [
        {
          "output_type": "stream",
          "text": [
            "Outputs for Neural Network- \n",
            "[[703 245]\n",
            " [424 524]]\n",
            "Accuracy Score:  0.65\n",
            "ROC AUC Score: 0.65\n",
            "Precision: 0.68\n",
            "Recall: 0.55\n",
            "F1: 0.61\n"
          ],
          "name": "stdout"
        }
      ]
    },
    {
      "cell_type": "code",
      "metadata": {
        "id": "pbs4CLYGhIGY"
      },
      "source": [
        "ann_viz(model, title = \"Architecture for NN to Predict Stroke\", filename = \"diabetes_network\")"
      ],
      "execution_count": 37,
      "outputs": []
    },
    {
      "cell_type": "code",
      "metadata": {
        "id": "eZTra6sEhIGZ"
      },
      "source": [
        ""
      ],
      "execution_count": null,
      "outputs": []
    }
  ]
}